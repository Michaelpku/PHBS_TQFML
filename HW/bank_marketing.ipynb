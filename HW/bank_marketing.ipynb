{
 "cells": [
  {
   "cell_type": "markdown",
   "metadata": {},
   "source": [
    "## HW2\n",
    "- Create your own GitHub repository for homework GITHUB_ID/PHBS_TQFML (make sure to make it public)\n",
    "- Write a Jupyter notebook GITHUB_ID/PHBS_TQFML/HW/bank_marketing.ipynb:\n",
    "- load data (bank.csv, smaller sample), normalize, and devide training/test sets\n",
    "- randomly select 2 or 3 features\n",
    "- apply the methods covered in Ch. 3 with SK-learn (logistic regress, SVM, decision tree, etc)\n",
    "- check the accuracy and plot the outcome\n",
    "- repeat above to find better feature\n",
    "- commit the best result and don't foget to sync to the repository"
   ]
  },
  {
   "cell_type": "code",
   "execution_count": 1,
   "metadata": {},
   "outputs": [],
   "source": [
    "import numpy as np\n",
    "import pandas as pd\n",
    "from sklearn import datasets\n",
    "from sklearn.model_selection import train_test_split\n",
    "from sklearn import preprocessing\n",
    "from sklearn.metrics import accuracy_score"
   ]
  },
  {
   "cell_type": "markdown",
   "metadata": {},
   "source": [
    "- plot_decision_regions function from PML Ch03"
   ]
  },
  {
   "cell_type": "code",
   "execution_count": 2,
   "metadata": {},
   "outputs": [],
   "source": [
    "from matplotlib.colors import ListedColormap\n",
    "import matplotlib.pyplot as plt\n",
    "\n",
    "\n",
    "def plot_decision_regions(X, y, classifier, test_idx=None, resolution=0.02):\n",
    "\n",
    "    # setup marker generator and color map\n",
    "    markers = ('s', 'x', 'o', '^', 'v')\n",
    "    colors = ('red', 'blue', 'lightgreen', 'gray', 'cyan')\n",
    "    cmap = ListedColormap(colors[:len(np.unique(y))])\n",
    "\n",
    "    # plot the decision surface\n",
    "    x1_min, x1_max = X[:, 0].min() - 1, X[:, 0].max() + 1\n",
    "    x2_min, x2_max = X[:, 1].min() - 1, X[:, 1].max() + 1\n",
    "    xx1, xx2 = np.meshgrid(np.arange(x1_min, x1_max, resolution),\n",
    "                           np.arange(x2_min, x2_max, resolution))\n",
    "    Z = classifier.predict(np.array([xx1.ravel(), xx2.ravel()]).T)\n",
    "    Z = Z.reshape(xx1.shape)\n",
    "    plt.contourf(xx1, xx2, Z, alpha=0.3, cmap=cmap)\n",
    "    plt.xlim(xx1.min(), xx1.max())\n",
    "    plt.ylim(xx2.min(), xx2.max())\n",
    "\n",
    "    for idx, cl in enumerate(np.unique(y)):\n",
    "        plt.scatter(x=X[y == cl, 0], \n",
    "                    y=X[y == cl, 1],\n",
    "                    alpha=0.8, \n",
    "                    c=colors[idx],\n",
    "                    marker=markers[idx], \n",
    "                    label=cl, \n",
    "                    edgecolor='black')\n",
    "\n",
    "    # highlight test samples\n",
    "    if test_idx:\n",
    "        # plot all samples\n",
    "        X_test, y_test = X[test_idx, :], y[test_idx]\n",
    "\n",
    "        plt.scatter(X_test[:, 0],\n",
    "                    X_test[:, 1],\n",
    "                    c='',\n",
    "                    edgecolor='black',\n",
    "                    alpha=1.0,\n",
    "                    linewidth=1,\n",
    "                    marker='o',\n",
    "                    s=100, \n",
    "                    label='test set')"
   ]
  },
  {
   "cell_type": "markdown",
   "metadata": {},
   "source": [
    "- Import data\n",
    "- Encode catagories\n",
    "- Normalize\n",
    "- Split data into training set and test set"
   ]
  },
  {
   "cell_type": "code",
   "execution_count": 3,
   "metadata": {
    "scrolled": true
   },
   "outputs": [
    {
     "name": "stderr",
     "output_type": "stream",
     "text": [
      "D:\\ProgramData\\Anaconda3\\lib\\site-packages\\sklearn\\utils\\validation.py:475: DataConversionWarning: Data with input dtype int64 was converted to float64 by MinMaxScaler.\n",
      "  warnings.warn(msg, DataConversionWarning)\n"
     ]
    }
   ],
   "source": [
    "dataset = pd.read_csv('bank.csv', sep = ';', header=0)\n",
    "d = {\n",
    "    'yes' : 1,\n",
    "    'no' : 0\n",
    "}\n",
    "dataset['default'] = dataset['default'].map(d)\n",
    "dataset['housing'] = dataset['housing'].map(d)\n",
    "dataset['loan'] = dataset['loan'].map(d)\n",
    "dataset['y'] = dataset['y'].map(d)\n",
    "\n",
    "edus = pd.get_dummies(dataset['education'])\n",
    "jobs = pd.get_dummies(dataset['job'])\n",
    "maritals = pd.get_dummies(dataset['marital'])\n",
    "contacts = pd.get_dummies(dataset['contact'])\n",
    "months = pd.get_dummies(dataset['month'])\n",
    "poutcomes = pd.get_dummies(dataset['poutcome'])\n",
    "\n",
    "u = edus.pop('unknown')\n",
    "u = jobs.pop('unknown')\n",
    "u = contacts.pop('unknown')\n",
    "u = poutcomes.pop('unknown')\n",
    "\n",
    "dataset = dataset.join(edus)\n",
    "dataset = dataset.join(jobs)\n",
    "dataset = dataset.join(maritals)\n",
    "dataset = dataset.join(contacts)\n",
    "dataset = dataset.join(months)\n",
    "dataset = dataset.join(poutcomes)\n",
    "\n",
    "u = dataset.pop('job')\n",
    "u = dataset.pop('marital')\n",
    "u = dataset.pop('education')\n",
    "u = dataset.pop('contact')\n",
    "u = dataset.pop('month')\n",
    "u = dataset.pop('poutcome')\n",
    "\n",
    "y = dataset.pop('y')\n",
    "\n",
    "column_names = dataset.columns.values.tolist()\n",
    "\n",
    "df = dataset.values\n",
    "min_max_scaler = preprocessing.MinMaxScaler()\n",
    "df_scaled = min_max_scaler.fit_transform(df)\n",
    "df = pd.DataFrame(df_scaled)\n",
    "\n",
    "c = dict(zip(range(dataset.columns.size),column_names))\n",
    "\n",
    "df = df.rename(mapper = c, axis = 'columns')\n",
    "\n",
    "X_train, X_test, y_train, y_test = train_test_split(df, y, test_size=0.3, random_state=2333, stratify=y)"
   ]
  },
  {
   "cell_type": "markdown",
   "metadata": {},
   "source": [
    "### Perceptron\n",
    "- Select two best features (maximize accuracy score)"
   ]
  },
  {
   "cell_type": "code",
   "execution_count": 4,
   "metadata": {},
   "outputs": [],
   "source": [
    "from sklearn.linear_model import Perceptron\n",
    "\n",
    "def find_best_features(X_train, X_test, y_train, y_test):\n",
    "    best_score = 0\n",
    "    column_names = X_train.columns.values.tolist()\n",
    "    c = dict(zip(range(X_train.columns.size),column_names))\n",
    "    for ii in range(X_train.columns.size):\n",
    "        for jj in range(X_train.columns.size):\n",
    "            if jj > ii:\n",
    "                ppn = Perceptron(max_iter=100, eta0=0.1, random_state=2333)\n",
    "                ppn.fit(X_train[[c[ii],c[jj]]], y_train)\n",
    "                y_pred = ppn.predict(X_test[[c[ii],c[jj]]])\n",
    "                score = accuracy_score(y_test, y_pred)\n",
    "                if score > best_score:\n",
    "                    best_score = score\n",
    "                    best_features = [c[ii],c[jj]]\n",
    "                    idx1 = ii\n",
    "                    idx2 = jj\n",
    "    return [best_features, [idx1, idx2], best_score]"
   ]
  },
  {
   "cell_type": "code",
   "execution_count": 5,
   "metadata": {},
   "outputs": [
    {
     "name": "stdout",
     "output_type": "stream",
     "text": [
      "[['duration', 'blue-collar'], [6, 14], 0.8975681650700074]\n"
     ]
    }
   ],
   "source": [
    "output = find_best_features(X_train, X_test, y_train, y_test)\n",
    "print(output)"
   ]
  },
  {
   "cell_type": "markdown",
   "metadata": {},
   "source": [
    "- Plot the outcome (using the output of find_best_features)"
   ]
  },
  {
   "cell_type": "code",
   "execution_count": 6,
   "metadata": {},
   "outputs": [],
   "source": [
    "def plot_best_feature(output, X_train, X_test, y_train, y_test):\n",
    "    ppn = Perceptron(max_iter=100, eta0=0.1, random_state=2333)\n",
    "    ppn.fit(X_train[output[0]], y_train)\n",
    "    \n",
    "    X_combined = np.vstack((X_train[output[0]], X_test[output[0]]))\n",
    "    y_combined = np.hstack((y_train, y_test))\n",
    "    \n",
    "    plot_decision_regions(X=X_combined, y=y_combined,\n",
    "                      classifier=ppn, test_idx=range(105, 150))\n",
    "    plt.xlabel(output[0][0])\n",
    "    plt.ylabel(output[0][1])\n",
    "    plt.legend(loc='upper left')\n",
    "\n",
    "    plt.tight_layout()\n",
    "    #plt.savefig('images/ppn.png', dpi=300)\n",
    "    plt.show()"
   ]
  },
  {
   "cell_type": "code",
   "execution_count": 7,
   "metadata": {},
   "outputs": [
    {
     "data": {
      "image/png": "[encoded data removed]",
      "text/plain": [
       "<matplotlib.figure.Figure at 0x288c937f860>"
      ]
     },
     "metadata": {},
     "output_type": "display_data"
    }
   ],
   "source": [
    "plot_best_feature(output, X_train, X_test, y_train, y_test)"
   ]
  },
  {
   "cell_type": "markdown",
   "metadata": {},
   "source": [
    "### Logistic Regression\n",
    "- Select two best features (maximize accuracy score)"
   ]
  },
  {
   "cell_type": "code",
   "execution_count": 8,
   "metadata": {},
   "outputs": [],
   "source": [
    "from sklearn.linear_model import LogisticRegression\n",
    "\n",
    "def find_best_features(X_train, X_test, y_train, y_test):\n",
    "    best_score = 0\n",
    "    column_names = X_train.columns.values.tolist()\n",
    "    c = dict(zip(range(X_train.columns.size),column_names))\n",
    "    for ii in range(X_train.columns.size):\n",
    "        for jj in range(X_train.columns.size):\n",
    "            if jj > ii:\n",
    "                lr = LogisticRegression(C=100, random_state=2333)\n",
    "                lr.fit(X_train[[c[ii],c[jj]]], y_train)\n",
    "                y_pred = lr.predict(X_test[[c[ii],c[jj]]])\n",
    "                score = accuracy_score(y_test, y_pred)\n",
    "                if score > best_score:\n",
    "                    best_score = score\n",
    "                    best_features = [c[ii],c[jj]]\n",
    "                    idx1 = ii\n",
    "                    idx2 = jj\n",
    "    return [best_features, [idx1, idx2], best_score]"
   ]
  },
  {
   "cell_type": "code",
   "execution_count": 9,
   "metadata": {},
   "outputs": [
    {
     "name": "stdout",
     "output_type": "stream",
     "text": [
      "[['duration', 'success'], [6, 43], 0.9012527634487841]\n"
     ]
    }
   ],
   "source": [
    "output = find_best_features(X_train, X_test, y_train, y_test)\n",
    "print(output)"
   ]
  },
  {
   "cell_type": "markdown",
   "metadata": {},
   "source": [
    "- Plot the outcome"
   ]
  },
  {
   "cell_type": "code",
   "execution_count": 10,
   "metadata": {},
   "outputs": [],
   "source": [
    "def plot_best_feature(output, X_train, X_test, y_train, y_test):\n",
    "    lr = LogisticRegression(C=100, random_state=2333)\n",
    "    lr.fit(X_train[output[0]], y_train)\n",
    "    \n",
    "    X_combined = np.vstack((X_train[output[0]], X_test[output[0]]))\n",
    "    y_combined = np.hstack((y_train, y_test))\n",
    "    \n",
    "    plot_decision_regions(X=X_combined, y=y_combined,\n",
    "                      classifier=lr, test_idx=range(105, 150))\n",
    "    plt.xlabel(output[0][0])\n",
    "    plt.ylabel(output[0][1])\n",
    "    plt.legend(loc='upper left')\n",
    "\n",
    "    plt.tight_layout()\n",
    "    #plt.savefig('images/ppn.png', dpi=300)\n",
    "    plt.show()"
   ]
  },
  {
   "cell_type": "code",
   "execution_count": 11,
   "metadata": {},
   "outputs": [
    {
     "data": {
      "image/png": "[encoded data removed]",
      "text/plain": [
       "<matplotlib.figure.Figure at 0x288c970bfd0>"
      ]
     },
     "metadata": {},
     "output_type": "display_data"
    }
   ],
   "source": [
    "plot_best_feature(output, X_train, X_test, y_train, y_test)"
   ]
  },
  {
   "cell_type": "markdown",
   "metadata": {},
   "source": [
    "### SVM (kernal: linear)\n",
    "- Select two best features (maximize accuracy score)"
   ]
  },
  {
   "cell_type": "code",
   "execution_count": 12,
   "metadata": {},
   "outputs": [],
   "source": [
    "from sklearn.svm import SVC\n",
    "\n",
    "def find_best_features(X_train, X_test, y_train, y_test):\n",
    "    best_score = 0\n",
    "    column_names = X_train.columns.values.tolist()\n",
    "    c = dict(zip(range(X_train.columns.size),column_names))\n",
    "    for ii in range(X_train.columns.size):\n",
    "        for jj in range(X_train.columns.size):\n",
    "            if jj > ii:\n",
    "                svm = SVC(kernel='linear', C=5.0, random_state=2333)\n",
    "                svm.fit(X_train[[c[ii],c[jj]]], y_train)\n",
    "                y_pred = svm.predict(X_test[[c[ii],c[jj]]])\n",
    "                score = accuracy_score(y_test, y_pred)\n",
    "                if score > best_score:\n",
    "                    best_score = score\n",
    "                    best_features = [c[ii],c[jj]]\n",
    "                    idx1 = ii\n",
    "                    idx2 = jj\n",
    "    return [best_features, [idx1, idx2], best_score]"
   ]
  },
  {
   "cell_type": "code",
   "execution_count": 13,
   "metadata": {},
   "outputs": [
    {
     "name": "stdout",
     "output_type": "stream",
     "text": [
      "[['age', 'success'], [0, 43], 0.894620486366986]\n"
     ]
    }
   ],
   "source": [
    "output = find_best_features(X_train, X_test, y_train, y_test)\n",
    "print(output)"
   ]
  },
  {
   "cell_type": "markdown",
   "metadata": {},
   "source": [
    "- Plot the outcome"
   ]
  },
  {
   "cell_type": "code",
   "execution_count": 14,
   "metadata": {},
   "outputs": [],
   "source": [
    "def plot_best_feature(output, X_train, X_test, y_train, y_test):\n",
    "    svm = SVC(kernel='linear', C=5.0, random_state=2333)\n",
    "    svm.fit(X_train[output[0]], y_train)\n",
    "    \n",
    "    X_combined = np.vstack((X_train[output[0]], X_test[output[0]]))\n",
    "    y_combined = np.hstack((y_train, y_test))\n",
    "    \n",
    "    plot_decision_regions(X=X_combined, y=y_combined,\n",
    "                      classifier=svm, test_idx=range(105, 150))\n",
    "    plt.xlabel(output[0][0])\n",
    "    plt.ylabel(output[0][1])\n",
    "    plt.legend(loc='upper left')\n",
    "\n",
    "    plt.tight_layout()\n",
    "    #plt.savefig('images/ppn.png', dpi=300)\n",
    "    plt.show()"
   ]
  },
  {
   "cell_type": "code",
   "execution_count": 15,
   "metadata": {},
   "outputs": [
    {
     "data": {
      "image/png": "[encoded data removed]",
      "text/plain": [
       "<matplotlib.figure.Figure at 0x288c9379ac8>"
      ]
     },
     "metadata": {},
     "output_type": "display_data"
    }
   ],
   "source": [
    "plot_best_feature(output, X_train, X_test, y_train, y_test)"
   ]
  },
  {
   "cell_type": "markdown",
   "metadata": {},
   "source": [
    "### SVM (kernal: rbf)\n",
    "- Select two best features (maximize accuracy score)"
   ]
  },
  {
   "cell_type": "code",
   "execution_count": 16,
   "metadata": {},
   "outputs": [],
   "source": [
    "from sklearn.svm import SVC\n",
    "\n",
    "def find_best_features(X_train, X_test, y_train, y_test):\n",
    "    best_score = 0\n",
    "    column_names = X_train.columns.values.tolist()\n",
    "    c = dict(zip(range(X_train.columns.size),column_names))\n",
    "    for ii in range(X_train.columns.size):\n",
    "        for jj in range(X_train.columns.size):\n",
    "            if jj > ii:\n",
    "                svm = SVC(kernel='rbf', random_state=2333, gamma=0.10, C=10.0)\n",
    "                svm.fit(X_train[[c[ii],c[jj]]], y_train)\n",
    "                y_pred = svm.predict(X_test[[c[ii],c[jj]]])\n",
    "                score = accuracy_score(y_test, y_pred)\n",
    "                if score > best_score:\n",
    "                    best_score = score\n",
    "                    best_features = [c[ii],c[jj]]\n",
    "                    idx1 = ii\n",
    "                    idx2 = jj\n",
    "    return [best_features, [idx1, idx2], best_score]"
   ]
  },
  {
   "cell_type": "code",
   "execution_count": 17,
   "metadata": {},
   "outputs": [
    {
     "name": "stdout",
     "output_type": "stream",
     "text": [
      "[['age', 'success'], [0, 43], 0.894620486366986]\n"
     ]
    }
   ],
   "source": [
    "output = find_best_features(X_train, X_test, y_train, y_test)\n",
    "print(output)"
   ]
  },
  {
   "cell_type": "markdown",
   "metadata": {},
   "source": [
    "- Plot the outcome"
   ]
  },
  {
   "cell_type": "code",
   "execution_count": 18,
   "metadata": {},
   "outputs": [],
   "source": [
    "def plot_best_feature(output, X_train, X_test, y_train, y_test):\n",
    "    svm = SVC(kernel='rbf', random_state=2333, gamma=0.10, C=10.0)\n",
    "    svm.fit(X_train[output[0]], y_train)\n",
    "    \n",
    "    X_combined = np.vstack((X_train[output[0]], X_test[output[0]]))\n",
    "    y_combined = np.hstack((y_train, y_test))\n",
    "    \n",
    "    plot_decision_regions(X=X_combined, y=y_combined,\n",
    "                      classifier=svm, test_idx=range(105, 150))\n",
    "    plt.xlabel(output[0][0])\n",
    "    plt.ylabel(output[0][1])\n",
    "    plt.legend(loc='upper left')\n",
    "\n",
    "    plt.tight_layout()\n",
    "    #plt.savefig('images/ppn.png', dpi=300)\n",
    "    plt.show()"
   ]
  },
  {
   "cell_type": "code",
   "execution_count": 19,
   "metadata": {},
   "outputs": [
    {
     "data": {
      "image/png": "[encoded data removed]",
      "text/plain": [
       "<matplotlib.figure.Figure at 0x288ca7cd630>"
      ]
     },
     "metadata": {},
     "output_type": "display_data"
    }
   ],
   "source": [
    "plot_best_feature(output, X_train, X_test, y_train, y_test)"
   ]
  },
  {
   "cell_type": "markdown",
   "metadata": {},
   "source": [
    "### Decision Tree\n",
    "- Select two best features (maximize accuracy score)"
   ]
  },
  {
   "cell_type": "code",
   "execution_count": 20,
   "metadata": {},
   "outputs": [],
   "source": [
    "from sklearn.tree import DecisionTreeClassifier\n",
    "\n",
    "def find_best_features(X_train, X_test, y_train, y_test):\n",
    "    best_score = 0\n",
    "    column_names = X_train.columns.values.tolist()\n",
    "    c = dict(zip(range(X_train.columns.size),column_names))\n",
    "    for ii in range(X_train.columns.size):\n",
    "        for jj in range(X_train.columns.size):\n",
    "            if jj > ii:\n",
    "                tree = DecisionTreeClassifier(criterion='gini', \n",
    "                              max_depth=4, \n",
    "                              random_state=2333)\n",
    "                tree.fit(X_train[[c[ii],c[jj]]], y_train)\n",
    "                y_pred = tree.predict(X_test[[c[ii],c[jj]]])\n",
    "                score = accuracy_score(y_test, y_pred)\n",
    "                if score > best_score:\n",
    "                    best_score = score\n",
    "                    best_features = [c[ii],c[jj]]\n",
    "                    idx1 = ii\n",
    "                    idx2 = jj\n",
    "    return [best_features, [idx1, idx2], best_score]"
   ]
  },
  {
   "cell_type": "code",
   "execution_count": 21,
   "metadata": {},
   "outputs": [
    {
     "name": "stdout",
     "output_type": "stream",
     "text": [
      "[['duration', 'success'], [6, 43], 0.9012527634487841]\n"
     ]
    }
   ],
   "source": [
    "output = find_best_features(X_train, X_test, y_train, y_test)\n",
    "print(output)"
   ]
  },
  {
   "cell_type": "markdown",
   "metadata": {},
   "source": [
    "- Plot the outcome"
   ]
  },
  {
   "cell_type": "code",
   "execution_count": 22,
   "metadata": {},
   "outputs": [],
   "source": [
    "def plot_best_feature(output, X_train, X_test, y_train, y_test):\n",
    "    tree = DecisionTreeClassifier(criterion='gini', \n",
    "                              max_depth=4, \n",
    "                              random_state=2333)\n",
    "    tree.fit(X_train[output[0]], y_train)\n",
    "    \n",
    "    X_combined = np.vstack((X_train[output[0]], X_test[output[0]]))\n",
    "    y_combined = np.hstack((y_train, y_test))\n",
    "    \n",
    "    plot_decision_regions(X=X_combined, y=y_combined,\n",
    "                      classifier=tree, test_idx=range(105, 150))\n",
    "    plt.xlabel(output[0][0])\n",
    "    plt.ylabel(output[0][1])\n",
    "    plt.legend(loc='upper left')\n",
    "\n",
    "    plt.tight_layout()\n",
    "    #plt.savefig('images/ppn.png', dpi=300)\n",
    "    plt.show()"
   ]
  },
  {
   "cell_type": "code",
   "execution_count": 23,
   "metadata": {},
   "outputs": [
    {
     "data": {
      "image/png": "[encoded data removed]",
      "text/plain": [
       "<matplotlib.figure.Figure at 0x288ca7cd438>"
      ]
     },
     "metadata": {},
     "output_type": "display_data"
    }
   ],
   "source": [
    "plot_best_feature(output, X_train, X_test, y_train, y_test)"
   ]
  },
  {
   "cell_type": "markdown",
   "metadata": {},
   "source": [
    "### Random Forest\n",
    "- Select two best features (maximize accuracy score)"
   ]
  },
  {
   "cell_type": "code",
   "execution_count": 33,
   "metadata": {},
   "outputs": [],
   "source": [
    "from sklearn.ensemble import RandomForestClassifier\n",
    "\n",
    "def find_best_features(X_train, X_test, y_train, y_test):\n",
    "    best_score = 0\n",
    "    column_names = X_train.columns.values.tolist()\n",
    "    c = dict(zip(range(X_train.columns.size),column_names))\n",
    "    for ii in range(X_train.columns.size):\n",
    "        for jj in range(X_train.columns.size):\n",
    "            if jj > ii:\n",
    "                forest = RandomForestClassifier(criterion='gini',\n",
    "                                n_estimators=10, \n",
    "                                random_state=2333,\n",
    "                                n_jobs=2)\n",
    "                forest.fit(X_train[[c[ii],c[jj]]], y_train)\n",
    "                y_pred = forest.predict(X_test[[c[ii],c[jj]]])\n",
    "                score = accuracy_score(y_test, y_pred)\n",
    "                if score > best_score:\n",
    "                    best_score = score\n",
    "                    best_features = [c[ii],c[jj]]\n",
    "                    idx1 = ii\n",
    "                    idx2 = jj\n",
    "    return [best_features, [idx1, idx2], best_score]"
   ]
  },
  {
   "cell_type": "code",
   "execution_count": 34,
   "metadata": {},
   "outputs": [
    {
     "name": "stdout",
     "output_type": "stream",
     "text": [
      "[['may', 'success'], [37, 43], 0.8960943257184967]\n"
     ]
    }
   ],
   "source": [
    "output = find_best_features(X_train, X_test, y_train, y_test)\n",
    "print(output)"
   ]
  },
  {
   "cell_type": "markdown",
   "metadata": {},
   "source": [
    "- Plot the outcome"
   ]
  },
  {
   "cell_type": "code",
   "execution_count": 35,
   "metadata": {},
   "outputs": [],
   "source": [
    "def plot_best_feature(output, X_train, X_test, y_train, y_test):\n",
    "    forest = RandomForestClassifier(criterion='gini',\n",
    "                                n_estimators=25, \n",
    "                                random_state=1,\n",
    "                                n_jobs=2)\n",
    "    forest.fit(X_train[output[0]], y_train)\n",
    "    \n",
    "    X_combined = np.vstack((X_train[output[0]], X_test[output[0]]))\n",
    "    y_combined = np.hstack((y_train, y_test))\n",
    "    \n",
    "    plot_decision_regions(X=X_combined, y=y_combined,\n",
    "                      classifier=forest, test_idx=range(105, 150))\n",
    "    plt.xlabel(output[0][0])\n",
    "    plt.ylabel(output[0][1])\n",
    "    plt.legend(loc='upper left')\n",
    "\n",
    "    plt.tight_layout()\n",
    "    #plt.savefig('images/ppn.png', dpi=300)\n",
    "    plt.show()"
   ]
  },
  {
   "cell_type": "code",
   "execution_count": 36,
   "metadata": {},
   "outputs": [
    {
     "data": {
      "image/png": "[encoded data removed]",
      "text/plain": [
       "<matplotlib.figure.Figure at 0x288caa77b70>"
      ]
     },
     "metadata": {},
     "output_type": "display_data"
    }
   ],
   "source": [
    "plot_best_feature(output, X_train, X_test, y_train, y_test)"
   ]
  },
  {
   "cell_type": "markdown",
   "metadata": {},
   "source": [
    "### K-nearest neighbors (KNN)\n",
    "- Select two best features (maximize accuracy score)"
   ]
  },
  {
   "cell_type": "code",
   "execution_count": 37,
   "metadata": {},
   "outputs": [],
   "source": [
    "from sklearn.neighbors import KNeighborsClassifier\n",
    "\n",
    "def find_best_features(X_train, X_test, y_train, y_test):\n",
    "    best_score = 0\n",
    "    column_names = X_train.columns.values.tolist()\n",
    "    c = dict(zip(range(X_train.columns.size),column_names))\n",
    "    for ii in range(X_train.columns.size):\n",
    "        for jj in range(X_train.columns.size):\n",
    "            if jj > ii:\n",
    "                knn = KNeighborsClassifier(n_neighbors=5, \n",
    "                           p=2, \n",
    "                           metric='minkowski')\n",
    "                knn.fit(X_train[[c[ii],c[jj]]], y_train)\n",
    "                y_pred = knn.predict(X_test[[c[ii],c[jj]]])\n",
    "                score = accuracy_score(y_test, y_pred)\n",
    "                if score > best_score:\n",
    "                    best_score = score\n",
    "                    best_features = [c[ii],c[jj]]\n",
    "                    idx1 = ii\n",
    "                    idx2 = jj\n",
    "    return [best_features, [idx1, idx2], best_score]"
   ]
  },
  {
   "cell_type": "code",
   "execution_count": 38,
   "metadata": {},
   "outputs": [
    {
     "name": "stdout",
     "output_type": "stream",
     "text": [
      "[['primary', 'success'], [10, 43], 0.8953574060427414]\n"
     ]
    }
   ],
   "source": [
    "output = find_best_features(X_train, X_test, y_train, y_test)\n",
    "print(output)"
   ]
  },
  {
   "cell_type": "markdown",
   "metadata": {},
   "source": [
    "- Plot the outcome"
   ]
  },
  {
   "cell_type": "code",
   "execution_count": 39,
   "metadata": {},
   "outputs": [],
   "source": [
    "def plot_best_feature(output, X_train, X_test, y_train, y_test):\n",
    "    knn = KNeighborsClassifier(n_neighbors=5, \n",
    "                           p=2, \n",
    "                           metric='minkowski')\n",
    "    knn.fit(X_train[output[0]], y_train)\n",
    "    \n",
    "    X_combined = np.vstack((X_train[output[0]], X_test[output[0]]))\n",
    "    y_combined = np.hstack((y_train, y_test))\n",
    "    \n",
    "    plot_decision_regions(X=X_combined, y=y_combined,\n",
    "                      classifier=knn, test_idx=range(105, 150))\n",
    "    plt.xlabel(output[0][0])\n",
    "    plt.ylabel(output[0][1])\n",
    "    plt.legend(loc='upper left')\n",
    "\n",
    "    plt.tight_layout()\n",
    "    #plt.savefig('images/ppn.png', dpi=300)\n",
    "    plt.show()"
   ]
  },
  {
   "cell_type": "code",
   "execution_count": 40,
   "metadata": {},
   "outputs": [
    {
     "data": {
      "image/png": "[encoded data removed]",
      "text/plain": [
       "<matplotlib.figure.Figure at 0x288caaf2438>"
      ]
     },
     "metadata": {},
     "output_type": "display_data"
    }
   ],
   "source": [
    "plot_best_feature(output, X_train, X_test, y_train, y_test)"
   ]
  },
  {
   "cell_type": "markdown",
   "metadata": {},
   "source": [
    "## Conclusion\n",
    "\n",
    "### The best features and their accuracy scores under each method are:\n",
    "\n",
    "- Perceptron : 'duration'& 'blue-collar', accuracy score: 0.8975681650700074\n",
    "- Logistic Regression : 'duration'& 'success', accuracy score: 0.9012527634487841\n",
    "- SVM (kernal: linear) : 'age'& 'success', accuracy score: 0.894620486366986\n",
    "- SVM (kernal: rbf) : 'age'& 'success', accuracy score: 0.894620486366986\n",
    "- Decision Tree: 'duration'& 'success', accuracy score: 0.9012527634487841\n",
    "- Random Forest: 'may'& 'success', accuracy score: 0.8960943257184967\n",
    "- KNN: 'primary'& 'success', accuracy score: 0.8953574060427414\n",
    "\n",
    "### Logistic Regression and Decision Tree both have the highest accuracy score 0.9012527634487841 under the bank.csv dataset. The best features they choose are 'duration' (last contact duration) and 'success' (the success of the previous marketing campaign)"
   ]
  }
 ],
 "metadata": {
  "kernelspec": {
   "display_name": "Python 3",
   "language": "python",
   "name": "python3"
  },
  "language_info": {
   "codemirror_mode": {
    "name": "ipython",
    "version": 3
   },
   "file_extension": ".py",
   "mimetype": "text/x-python",
   "name": "python",
   "nbconvert_exporter": "python",
   "pygments_lexer": "ipython3",
   "version": "3.6.4"
  }
 },
 "nbformat": 4,
 "nbformat_minor": 2
}
